{
  "nbformat": 4,
  "nbformat_minor": 0,
  "metadata": {
    "colab": {
      "provenance": [],
      "gpuType": "A100"
    },
    "kernelspec": {
      "name": "python3",
      "display_name": "Python 3"
    },
    "language_info": {
      "name": "python"
    },
    "accelerator": "GPU"
  },
  "cells": [
    {
      "cell_type": "code",
      "source": [
        "import torch\n",
        "\n",
        "if torch.cuda.is_available():\n",
        "    print(\"✅ GPU is available!\")\n",
        "    print(\"💻 GPU Name:\", torch.cuda.get_device_name(0))\n",
        "else:\n",
        "    print(\"❌ GPU not available. Using CPU.\")\n"
      ],
      "metadata": {
        "colab": {
          "base_uri": "https://localhost:8080/"
        },
        "id": "F3Gzz4PKqCEQ",
        "outputId": "5738da41-5818-4d71-e14b-5cf949adba1b"
      },
      "execution_count": null,
      "outputs": [
        {
          "output_type": "stream",
          "name": "stdout",
          "text": [
            "✅ GPU is available!\n",
            "💻 GPU Name: NVIDIA A100-SXM4-40GB\n"
          ]
        }
      ]
    },
    {
      "cell_type": "code",
      "source": [
        "# 📦 Install dependencies\n",
        "!pip install umap-learn hdbscan -q"
      ],
      "metadata": {
        "id": "C6B0lkzGp_4E"
      },
      "execution_count": null,
      "outputs": []
    },
    {
      "cell_type": "code",
      "execution_count": null,
      "metadata": {
        "colab": {
          "base_uri": "https://localhost:8080/"
        },
        "id": "_458FoaKpzMP",
        "outputId": "ddae810a-8b7e-4ff0-86dc-ddacbb5c63a9"
      },
      "outputs": [
        {
          "metadata": {
            "tags": null
          },
          "name": "stdout",
          "output_type": "stream",
          "text": [
            "📥 Loading data...\n",
            "🔄 Fitting UMAP model on first batch...\n"
          ]
        },
        {
          "metadata": {
            "tags": null
          },
          "name": "stderr",
          "output_type": "stream",
          "text": [
            "/usr/local/lib/python3.11/dist-packages/sklearn/utils/deprecation.py:151: FutureWarning: 'force_all_finite' was renamed to 'ensure_all_finite' in 1.6 and will be removed in 1.8.\n",
            "  warnings.warn(\n",
            "/usr/local/lib/python3.11/dist-packages/umap/umap_.py:1952: UserWarning: n_jobs value 1 overridden to 1 by setting random_state. Use no seed for parallelism.\n",
            "  warn(\n"
          ]
        },
        {
          "metadata": {
            "tags": null
          },
          "name": "stdout",
          "output_type": "stream",
          "text": [
            "📉 Transforming remaining batches with progress bar...\n"
          ]
        },
        {
          "metadata": {
            "tags": null
          },
          "name": "stderr",
          "output_type": "stream",
          "text": [
            "UMAP Reducing:   0%|          | 0/73 [00:00<?, ?it/s]/usr/local/lib/python3.11/dist-packages/sklearn/utils/deprecation.py:151: FutureWarning: 'force_all_finite' was renamed to 'ensure_all_finite' in 1.6 and will be removed in 1.8.\n",
            "  warnings.warn(\n",
            "/usr/local/lib/python3.11/dist-packages/sklearn/utils/deprecation.py:151: FutureWarning: 'force_all_finite' was renamed to 'ensure_all_finite' in 1.6 and will be removed in 1.8.\n",
            "  warnings.warn(\n",
            "UMAP Reducing:   3%|▎         | 2/73 [00:22<13:22, 11.30s/it]/usr/local/lib/python3.11/dist-packages/sklearn/utils/deprecation.py:151: FutureWarning: 'force_all_finite' was renamed to 'ensure_all_finite' in 1.6 and will be removed in 1.8.\n",
            "  warnings.warn(\n",
            "UMAP Reducing:   4%|▍         | 3/73 [00:30<11:36,  9.95s/it]/usr/local/lib/python3.11/dist-packages/sklearn/utils/deprecation.py:151: FutureWarning: 'force_all_finite' was renamed to 'ensure_all_finite' in 1.6 and will be removed in 1.8.\n",
            "  warnings.warn(\n",
            "UMAP Reducing:   5%|▌         | 4/73 [00:38<10:38,  9.25s/it]/usr/local/lib/python3.11/dist-packages/sklearn/utils/deprecation.py:151: FutureWarning: 'force_all_finite' was renamed to 'ensure_all_finite' in 1.6 and will be removed in 1.8.\n",
            "  warnings.warn(\n",
            "UMAP Reducing:   7%|▋         | 5/73 [00:46<09:56,  8.77s/it]/usr/local/lib/python3.11/dist-packages/sklearn/utils/deprecation.py:151: FutureWarning: 'force_all_finite' was renamed to 'ensure_all_finite' in 1.6 and will be removed in 1.8.\n",
            "  warnings.warn(\n",
            "UMAP Reducing:   8%|▊         | 6/73 [00:54<09:28,  8.48s/it]/usr/local/lib/python3.11/dist-packages/sklearn/utils/deprecation.py:151: FutureWarning: 'force_all_finite' was renamed to 'ensure_all_finite' in 1.6 and will be removed in 1.8.\n",
            "  warnings.warn(\n",
            "UMAP Reducing:  10%|▉         | 7/73 [01:02<09:14,  8.40s/it]/usr/local/lib/python3.11/dist-packages/sklearn/utils/deprecation.py:151: FutureWarning: 'force_all_finite' was renamed to 'ensure_all_finite' in 1.6 and will be removed in 1.8.\n",
            "  warnings.warn(\n",
            "UMAP Reducing:  11%|█         | 8/73 [01:10<08:55,  8.25s/it]/usr/local/lib/python3.11/dist-packages/sklearn/utils/deprecation.py:151: FutureWarning: 'force_all_finite' was renamed to 'ensure_all_finite' in 1.6 and will be removed in 1.8.\n",
            "  warnings.warn(\n",
            "UMAP Reducing:  12%|█▏        | 9/73 [01:18<08:39,  8.11s/it]/usr/local/lib/python3.11/dist-packages/sklearn/utils/deprecation.py:151: FutureWarning: 'force_all_finite' was renamed to 'ensure_all_finite' in 1.6 and will be removed in 1.8.\n",
            "  warnings.warn(\n",
            "UMAP Reducing:  14%|█▎        | 10/73 [01:26<08:24,  8.01s/it]/usr/local/lib/python3.11/dist-packages/sklearn/utils/deprecation.py:151: FutureWarning: 'force_all_finite' was renamed to 'ensure_all_finite' in 1.6 and will be removed in 1.8.\n",
            "  warnings.warn(\n",
            "UMAP Reducing:  15%|█▌        | 11/73 [01:34<08:15,  7.99s/it]/usr/local/lib/python3.11/dist-packages/sklearn/utils/deprecation.py:151: FutureWarning: 'force_all_finite' was renamed to 'ensure_all_finite' in 1.6 and will be removed in 1.8.\n",
            "  warnings.warn(\n",
            "UMAP Reducing:  16%|█▋        | 12/73 [01:42<08:06,  7.97s/it]/usr/local/lib/python3.11/dist-packages/sklearn/utils/deprecation.py:151: FutureWarning: 'force_all_finite' was renamed to 'ensure_all_finite' in 1.6 and will be removed in 1.8.\n",
            "  warnings.warn(\n",
            "UMAP Reducing:  18%|█▊        | 13/73 [01:49<07:56,  7.94s/it]/usr/local/lib/python3.11/dist-packages/sklearn/utils/deprecation.py:151: FutureWarning: 'force_all_finite' was renamed to 'ensure_all_finite' in 1.6 and will be removed in 1.8.\n",
            "  warnings.warn(\n",
            "UMAP Reducing:  19%|█▉        | 14/73 [01:57<07:46,  7.90s/it]/usr/local/lib/python3.11/dist-packages/sklearn/utils/deprecation.py:151: FutureWarning: 'force_all_finite' was renamed to 'ensure_all_finite' in 1.6 and will be removed in 1.8.\n",
            "  warnings.warn(\n",
            "UMAP Reducing:  21%|██        | 15/73 [02:05<07:38,  7.91s/it]/usr/local/lib/python3.11/dist-packages/sklearn/utils/deprecation.py:151: FutureWarning: 'force_all_finite' was renamed to 'ensure_all_finite' in 1.6 and will be removed in 1.8.\n",
            "  warnings.warn(\n",
            "UMAP Reducing:  22%|██▏       | 16/73 [02:13<07:27,  7.85s/it]/usr/local/lib/python3.11/dist-packages/sklearn/utils/deprecation.py:151: FutureWarning: 'force_all_finite' was renamed to 'ensure_all_finite' in 1.6 and will be removed in 1.8.\n",
            "  warnings.warn(\n",
            "UMAP Reducing:  23%|██▎       | 17/73 [02:21<07:18,  7.83s/it]/usr/local/lib/python3.11/dist-packages/sklearn/utils/deprecation.py:151: FutureWarning: 'force_all_finite' was renamed to 'ensure_all_finite' in 1.6 and will be removed in 1.8.\n",
            "  warnings.warn(\n",
            "UMAP Reducing:  25%|██▍       | 18/73 [02:28<07:08,  7.79s/it]/usr/local/lib/python3.11/dist-packages/sklearn/utils/deprecation.py:151: FutureWarning: 'force_all_finite' was renamed to 'ensure_all_finite' in 1.6 and will be removed in 1.8.\n",
            "  warnings.warn(\n",
            "UMAP Reducing:  26%|██▌       | 19/73 [02:36<06:59,  7.76s/it]/usr/local/lib/python3.11/dist-packages/sklearn/utils/deprecation.py:151: FutureWarning: 'force_all_finite' was renamed to 'ensure_all_finite' in 1.6 and will be removed in 1.8.\n",
            "  warnings.warn(\n",
            "UMAP Reducing:  27%|██▋       | 20/73 [02:44<06:53,  7.80s/it]/usr/local/lib/python3.11/dist-packages/sklearn/utils/deprecation.py:151: FutureWarning: 'force_all_finite' was renamed to 'ensure_all_finite' in 1.6 and will be removed in 1.8.\n",
            "  warnings.warn(\n",
            "UMAP Reducing:  29%|██▉       | 21/73 [02:52<06:46,  7.81s/it]/usr/local/lib/python3.11/dist-packages/sklearn/utils/deprecation.py:151: FutureWarning: 'force_all_finite' was renamed to 'ensure_all_finite' in 1.6 and will be removed in 1.8.\n",
            "  warnings.warn(\n",
            "UMAP Reducing:  30%|███       | 22/73 [03:00<06:38,  7.81s/it]/usr/local/lib/python3.11/dist-packages/sklearn/utils/deprecation.py:151: FutureWarning: 'force_all_finite' was renamed to 'ensure_all_finite' in 1.6 and will be removed in 1.8.\n",
            "  warnings.warn(\n",
            "UMAP Reducing:  32%|███▏      | 23/73 [03:07<06:29,  7.79s/it]/usr/local/lib/python3.11/dist-packages/sklearn/utils/deprecation.py:151: FutureWarning: 'force_all_finite' was renamed to 'ensure_all_finite' in 1.6 and will be removed in 1.8.\n",
            "  warnings.warn(\n",
            "UMAP Reducing:  33%|███▎      | 24/73 [03:15<06:20,  7.76s/it]/usr/local/lib/python3.11/dist-packages/sklearn/utils/deprecation.py:151: FutureWarning: 'force_all_finite' was renamed to 'ensure_all_finite' in 1.6 and will be removed in 1.8.\n",
            "  warnings.warn(\n",
            "UMAP Reducing:  34%|███▍      | 25/73 [03:23<06:15,  7.83s/it]/usr/local/lib/python3.11/dist-packages/sklearn/utils/deprecation.py:151: FutureWarning: 'force_all_finite' was renamed to 'ensure_all_finite' in 1.6 and will be removed in 1.8.\n",
            "  warnings.warn(\n",
            "UMAP Reducing:  36%|███▌      | 26/73 [03:31<06:08,  7.84s/it]/usr/local/lib/python3.11/dist-packages/sklearn/utils/deprecation.py:151: FutureWarning: 'force_all_finite' was renamed to 'ensure_all_finite' in 1.6 and will be removed in 1.8.\n",
            "  warnings.warn(\n",
            "UMAP Reducing:  37%|███▋      | 27/73 [03:39<05:58,  7.80s/it]/usr/local/lib/python3.11/dist-packages/sklearn/utils/deprecation.py:151: FutureWarning: 'force_all_finite' was renamed to 'ensure_all_finite' in 1.6 and will be removed in 1.8.\n",
            "  warnings.warn(\n",
            "UMAP Reducing:  38%|███▊      | 28/73 [03:47<05:52,  7.82s/it]/usr/local/lib/python3.11/dist-packages/sklearn/utils/deprecation.py:151: FutureWarning: 'force_all_finite' was renamed to 'ensure_all_finite' in 1.6 and will be removed in 1.8.\n",
            "  warnings.warn(\n",
            "UMAP Reducing:  40%|███▉      | 29/73 [03:54<05:44,  7.82s/it]/usr/local/lib/python3.11/dist-packages/sklearn/utils/deprecation.py:151: FutureWarning: 'force_all_finite' was renamed to 'ensure_all_finite' in 1.6 and will be removed in 1.8.\n",
            "  warnings.warn(\n",
            "UMAP Reducing:  41%|████      | 30/73 [04:02<05:36,  7.82s/it]/usr/local/lib/python3.11/dist-packages/sklearn/utils/deprecation.py:151: FutureWarning: 'force_all_finite' was renamed to 'ensure_all_finite' in 1.6 and will be removed in 1.8.\n",
            "  warnings.warn(\n",
            "UMAP Reducing:  42%|████▏     | 31/73 [04:10<05:26,  7.78s/it]/usr/local/lib/python3.11/dist-packages/sklearn/utils/deprecation.py:151: FutureWarning: 'force_all_finite' was renamed to 'ensure_all_finite' in 1.6 and will be removed in 1.8.\n",
            "  warnings.warn(\n",
            "UMAP Reducing:  44%|████▍     | 32/73 [04:18<05:21,  7.83s/it]/usr/local/lib/python3.11/dist-packages/sklearn/utils/deprecation.py:151: FutureWarning: 'force_all_finite' was renamed to 'ensure_all_finite' in 1.6 and will be removed in 1.8.\n",
            "  warnings.warn(\n",
            "UMAP Reducing:  45%|████▌     | 33/73 [04:26<05:13,  7.83s/it]/usr/local/lib/python3.11/dist-packages/sklearn/utils/deprecation.py:151: FutureWarning: 'force_all_finite' was renamed to 'ensure_all_finite' in 1.6 and will be removed in 1.8.\n",
            "  warnings.warn(\n",
            "UMAP Reducing:  47%|████▋     | 34/73 [04:34<05:08,  7.90s/it]/usr/local/lib/python3.11/dist-packages/sklearn/utils/deprecation.py:151: FutureWarning: 'force_all_finite' was renamed to 'ensure_all_finite' in 1.6 and will be removed in 1.8.\n",
            "  warnings.warn(\n",
            "UMAP Reducing:  48%|████▊     | 35/73 [04:41<04:58,  7.85s/it]/usr/local/lib/python3.11/dist-packages/sklearn/utils/deprecation.py:151: FutureWarning: 'force_all_finite' was renamed to 'ensure_all_finite' in 1.6 and will be removed in 1.8.\n",
            "  warnings.warn(\n",
            "UMAP Reducing:  49%|████▉     | 36/73 [04:49<04:48,  7.78s/it]/usr/local/lib/python3.11/dist-packages/sklearn/utils/deprecation.py:151: FutureWarning: 'force_all_finite' was renamed to 'ensure_all_finite' in 1.6 and will be removed in 1.8.\n",
            "  warnings.warn(\n",
            "UMAP Reducing:  51%|█████     | 37/73 [04:57<04:39,  7.76s/it]/usr/local/lib/python3.11/dist-packages/sklearn/utils/deprecation.py:151: FutureWarning: 'force_all_finite' was renamed to 'ensure_all_finite' in 1.6 and will be removed in 1.8.\n",
            "  warnings.warn(\n",
            "UMAP Reducing:  52%|█████▏    | 38/73 [05:05<04:33,  7.81s/it]/usr/local/lib/python3.11/dist-packages/sklearn/utils/deprecation.py:151: FutureWarning: 'force_all_finite' was renamed to 'ensure_all_finite' in 1.6 and will be removed in 1.8.\n",
            "  warnings.warn(\n",
            "UMAP Reducing:  53%|█████▎    | 39/73 [05:12<04:24,  7.78s/it]/usr/local/lib/python3.11/dist-packages/sklearn/utils/deprecation.py:151: FutureWarning: 'force_all_finite' was renamed to 'ensure_all_finite' in 1.6 and will be removed in 1.8.\n",
            "  warnings.warn(\n",
            "UMAP Reducing:  55%|█████▍    | 40/73 [05:20<04:16,  7.76s/it]/usr/local/lib/python3.11/dist-packages/sklearn/utils/deprecation.py:151: FutureWarning: 'force_all_finite' was renamed to 'ensure_all_finite' in 1.6 and will be removed in 1.8.\n",
            "  warnings.warn(\n",
            "UMAP Reducing:  56%|█████▌    | 41/73 [05:28<04:07,  7.74s/it]/usr/local/lib/python3.11/dist-packages/sklearn/utils/deprecation.py:151: FutureWarning: 'force_all_finite' was renamed to 'ensure_all_finite' in 1.6 and will be removed in 1.8.\n",
            "  warnings.warn(\n",
            "UMAP Reducing:  58%|█████▊    | 42/73 [05:36<04:00,  7.77s/it]/usr/local/lib/python3.11/dist-packages/sklearn/utils/deprecation.py:151: FutureWarning: 'force_all_finite' was renamed to 'ensure_all_finite' in 1.6 and will be removed in 1.8.\n",
            "  warnings.warn(\n",
            "UMAP Reducing:  59%|█████▉    | 43/73 [05:43<03:52,  7.77s/it]/usr/local/lib/python3.11/dist-packages/sklearn/utils/deprecation.py:151: FutureWarning: 'force_all_finite' was renamed to 'ensure_all_finite' in 1.6 and will be removed in 1.8.\n",
            "  warnings.warn(\n",
            "UMAP Reducing:  60%|██████    | 44/73 [05:51<03:45,  7.77s/it]/usr/local/lib/python3.11/dist-packages/sklearn/utils/deprecation.py:151: FutureWarning: 'force_all_finite' was renamed to 'ensure_all_finite' in 1.6 and will be removed in 1.8.\n",
            "  warnings.warn(\n",
            "UMAP Reducing:  62%|██████▏   | 45/73 [05:59<03:39,  7.83s/it]/usr/local/lib/python3.11/dist-packages/sklearn/utils/deprecation.py:151: FutureWarning: 'force_all_finite' was renamed to 'ensure_all_finite' in 1.6 and will be removed in 1.8.\n",
            "  warnings.warn(\n",
            "UMAP Reducing:  63%|██████▎   | 46/73 [06:07<03:32,  7.86s/it]/usr/local/lib/python3.11/dist-packages/sklearn/utils/deprecation.py:151: FutureWarning: 'force_all_finite' was renamed to 'ensure_all_finite' in 1.6 and will be removed in 1.8.\n",
            "  warnings.warn(\n",
            "UMAP Reducing:  64%|██████▍   | 47/73 [06:15<03:24,  7.85s/it]/usr/local/lib/python3.11/dist-packages/sklearn/utils/deprecation.py:151: FutureWarning: 'force_all_finite' was renamed to 'ensure_all_finite' in 1.6 and will be removed in 1.8.\n",
            "  warnings.warn(\n",
            "UMAP Reducing:  66%|██████▌   | 48/73 [06:23<03:16,  7.87s/it]/usr/local/lib/python3.11/dist-packages/sklearn/utils/deprecation.py:151: FutureWarning: 'force_all_finite' was renamed to 'ensure_all_finite' in 1.6 and will be removed in 1.8.\n",
            "  warnings.warn(\n",
            "UMAP Reducing:  67%|██████▋   | 49/73 [06:31<03:09,  7.88s/it]/usr/local/lib/python3.11/dist-packages/sklearn/utils/deprecation.py:151: FutureWarning: 'force_all_finite' was renamed to 'ensure_all_finite' in 1.6 and will be removed in 1.8.\n",
            "  warnings.warn(\n",
            "UMAP Reducing:  68%|██████▊   | 50/73 [06:39<03:01,  7.91s/it]/usr/local/lib/python3.11/dist-packages/sklearn/utils/deprecation.py:151: FutureWarning: 'force_all_finite' was renamed to 'ensure_all_finite' in 1.6 and will be removed in 1.8.\n",
            "  warnings.warn(\n",
            "UMAP Reducing:  70%|██████▉   | 51/73 [06:47<02:54,  7.91s/it]/usr/local/lib/python3.11/dist-packages/sklearn/utils/deprecation.py:151: FutureWarning: 'force_all_finite' was renamed to 'ensure_all_finite' in 1.6 and will be removed in 1.8.\n",
            "  warnings.warn(\n",
            "UMAP Reducing:  71%|███████   | 52/73 [06:54<02:45,  7.88s/it]/usr/local/lib/python3.11/dist-packages/sklearn/utils/deprecation.py:151: FutureWarning: 'force_all_finite' was renamed to 'ensure_all_finite' in 1.6 and will be removed in 1.8.\n",
            "  warnings.warn(\n",
            "UMAP Reducing:  73%|███████▎  | 53/73 [07:02<02:37,  7.89s/it]/usr/local/lib/python3.11/dist-packages/sklearn/utils/deprecation.py:151: FutureWarning: 'force_all_finite' was renamed to 'ensure_all_finite' in 1.6 and will be removed in 1.8.\n",
            "  warnings.warn(\n",
            "UMAP Reducing:  74%|███████▍  | 54/73 [07:10<02:30,  7.92s/it]/usr/local/lib/python3.11/dist-packages/sklearn/utils/deprecation.py:151: FutureWarning: 'force_all_finite' was renamed to 'ensure_all_finite' in 1.6 and will be removed in 1.8.\n",
            "  warnings.warn(\n",
            "UMAP Reducing:  75%|███████▌  | 55/73 [07:18<02:22,  7.92s/it]/usr/local/lib/python3.11/dist-packages/sklearn/utils/deprecation.py:151: FutureWarning: 'force_all_finite' was renamed to 'ensure_all_finite' in 1.6 and will be removed in 1.8.\n",
            "  warnings.warn(\n",
            "UMAP Reducing:  77%|███████▋  | 56/73 [07:26<02:15,  7.98s/it]/usr/local/lib/python3.11/dist-packages/sklearn/utils/deprecation.py:151: FutureWarning: 'force_all_finite' was renamed to 'ensure_all_finite' in 1.6 and will be removed in 1.8.\n",
            "  warnings.warn(\n",
            "UMAP Reducing:  78%|███████▊  | 57/73 [07:34<02:08,  8.01s/it]/usr/local/lib/python3.11/dist-packages/sklearn/utils/deprecation.py:151: FutureWarning: 'force_all_finite' was renamed to 'ensure_all_finite' in 1.6 and will be removed in 1.8.\n",
            "  warnings.warn(\n",
            "UMAP Reducing:  79%|███████▉  | 58/73 [07:43<02:00,  8.05s/it]/usr/local/lib/python3.11/dist-packages/sklearn/utils/deprecation.py:151: FutureWarning: 'force_all_finite' was renamed to 'ensure_all_finite' in 1.6 and will be removed in 1.8.\n",
            "  warnings.warn(\n",
            "UMAP Reducing:  81%|████████  | 59/73 [07:51<01:53,  8.12s/it]/usr/local/lib/python3.11/dist-packages/sklearn/utils/deprecation.py:151: FutureWarning: 'force_all_finite' was renamed to 'ensure_all_finite' in 1.6 and will be removed in 1.8.\n",
            "  warnings.warn(\n",
            "UMAP Reducing:  82%|████████▏ | 60/73 [07:59<01:46,  8.19s/it]/usr/local/lib/python3.11/dist-packages/sklearn/utils/deprecation.py:151: FutureWarning: 'force_all_finite' was renamed to 'ensure_all_finite' in 1.6 and will be removed in 1.8.\n",
            "  warnings.warn(\n",
            "UMAP Reducing:  84%|████████▎ | 61/73 [08:08<01:38,  8.24s/it]/usr/local/lib/python3.11/dist-packages/sklearn/utils/deprecation.py:151: FutureWarning: 'force_all_finite' was renamed to 'ensure_all_finite' in 1.6 and will be removed in 1.8.\n",
            "  warnings.warn(\n",
            "UMAP Reducing:  85%|████████▍ | 62/73 [08:16<01:30,  8.19s/it]/usr/local/lib/python3.11/dist-packages/sklearn/utils/deprecation.py:151: FutureWarning: 'force_all_finite' was renamed to 'ensure_all_finite' in 1.6 and will be removed in 1.8.\n",
            "  warnings.warn(\n",
            "UMAP Reducing:  86%|████████▋ | 63/73 [08:24<01:21,  8.15s/it]/usr/local/lib/python3.11/dist-packages/sklearn/utils/deprecation.py:151: FutureWarning: 'force_all_finite' was renamed to 'ensure_all_finite' in 1.6 and will be removed in 1.8.\n",
            "  warnings.warn(\n",
            "UMAP Reducing:  88%|████████▊ | 64/73 [08:32<01:12,  8.06s/it]/usr/local/lib/python3.11/dist-packages/sklearn/utils/deprecation.py:151: FutureWarning: 'force_all_finite' was renamed to 'ensure_all_finite' in 1.6 and will be removed in 1.8.\n",
            "  warnings.warn(\n",
            "UMAP Reducing:  89%|████████▉ | 65/73 [08:40<01:04,  8.11s/it]/usr/local/lib/python3.11/dist-packages/sklearn/utils/deprecation.py:151: FutureWarning: 'force_all_finite' was renamed to 'ensure_all_finite' in 1.6 and will be removed in 1.8.\n",
            "  warnings.warn(\n",
            "UMAP Reducing:  90%|█████████ | 66/73 [08:48<00:56,  8.07s/it]/usr/local/lib/python3.11/dist-packages/sklearn/utils/deprecation.py:151: FutureWarning: 'force_all_finite' was renamed to 'ensure_all_finite' in 1.6 and will be removed in 1.8.\n",
            "  warnings.warn(\n",
            "UMAP Reducing:  92%|█████████▏| 67/73 [08:55<00:47,  7.96s/it]/usr/local/lib/python3.11/dist-packages/sklearn/utils/deprecation.py:151: FutureWarning: 'force_all_finite' was renamed to 'ensure_all_finite' in 1.6 and will be removed in 1.8.\n",
            "  warnings.warn(\n",
            "UMAP Reducing:  93%|█████████▎| 68/73 [09:03<00:39,  7.91s/it]/usr/local/lib/python3.11/dist-packages/sklearn/utils/deprecation.py:151: FutureWarning: 'force_all_finite' was renamed to 'ensure_all_finite' in 1.6 and will be removed in 1.8.\n",
            "  warnings.warn(\n",
            "UMAP Reducing:  95%|█████████▍| 69/73 [09:11<00:31,  7.95s/it]/usr/local/lib/python3.11/dist-packages/sklearn/utils/deprecation.py:151: FutureWarning: 'force_all_finite' was renamed to 'ensure_all_finite' in 1.6 and will be removed in 1.8.\n",
            "  warnings.warn(\n",
            "UMAP Reducing:  96%|█████████▌| 70/73 [09:19<00:23,  7.99s/it]/usr/local/lib/python3.11/dist-packages/sklearn/utils/deprecation.py:151: FutureWarning: 'force_all_finite' was renamed to 'ensure_all_finite' in 1.6 and will be removed in 1.8.\n",
            "  warnings.warn(\n",
            "UMAP Reducing:  97%|█████████▋| 71/73 [09:28<00:16,  8.10s/it]/usr/local/lib/python3.11/dist-packages/sklearn/utils/deprecation.py:151: FutureWarning: 'force_all_finite' was renamed to 'ensure_all_finite' in 1.6 and will be removed in 1.8.\n",
            "  warnings.warn(\n",
            "UMAP Reducing:  99%|█████████▊| 72/73 [09:36<00:08,  8.19s/it]/usr/local/lib/python3.11/dist-packages/sklearn/utils/deprecation.py:151: FutureWarning: 'force_all_finite' was renamed to 'ensure_all_finite' in 1.6 and will be removed in 1.8.\n",
            "  warnings.warn(\n",
            "UMAP Reducing: 100%|██████████| 73/73 [09:38<00:00,  7.93s/it]\n",
            "/usr/local/lib/python3.11/dist-packages/sklearn/utils/deprecation.py:151: FutureWarning: 'force_all_finite' was renamed to 'ensure_all_finite' in 1.6 and will be removed in 1.8.\n",
            "  warnings.warn(\n",
            "/usr/local/lib/python3.11/dist-packages/sklearn/utils/deprecation.py:151: FutureWarning: 'force_all_finite' was renamed to 'ensure_all_finite' in 1.6 and will be removed in 1.8.\n",
            "  warnings.warn(\n"
          ]
        },
        {
          "metadata": {
            "tags": null
          },
          "name": "stdout",
          "output_type": "stream",
          "text": [
            "✅ UMAP reduction completed in 636.73 seconds\n",
            "\n",
            "🔍 Running HDBSCAN clustering...\n",
            "✅ HDBSCAN clustering completed in 251.41 seconds\n",
            "\n",
            "📝 Adding cluster labels to metadata...\n"
          ]
        },
        {
          "metadata": {
            "tags": null
          },
          "name": "stderr",
          "output_type": "stream",
          "text": [
            "Metadata Update: 100%|██████████| 722317/722317 [00:00<00:00, 1652344.76it/s]\n"
          ]
        },
        {
          "metadata": {
            "tags": null
          },
          "name": "stdout",
          "output_type": "stream",
          "text": [
            "✅ Metadata update completed in 0.44 seconds\n",
            "\n",
            "💾 Saving clustered metadata...\n",
            "✅ Saved to 'movie_metadata_umap_clusters.pkl'\n",
            "\n",
            "📊 Generating 2D UMAP projection for visualization...\n"
          ]
        },
        {
          "metadata": {
            "tags": null
          },
          "name": "stderr",
          "output_type": "stream",
          "text": [
            "/usr/local/lib/python3.11/dist-packages/sklearn/utils/deprecation.py:151: FutureWarning: 'force_all_finite' was renamed to 'ensure_all_finite' in 1.6 and will be removed in 1.8.\n",
            "  warnings.warn(\n",
            "/usr/local/lib/python3.11/dist-packages/umap/umap_.py:1952: UserWarning: n_jobs value 1 overridden to 1 by setting random_state. Use no seed for parallelism.\n",
            "  warn(\n"
          ]
        }
      ],
      "source": [
        "import numpy as np\n",
        "import joblib\n",
        "import hdbscan\n",
        "from umap import UMAP\n",
        "from tqdm import tqdm\n",
        "import matplotlib.pyplot as plt\n",
        "import time\n",
        "\n",
        "# === Load Data ===\n",
        "print(\"📥 Loading data...\")\n",
        "embeddings = np.load(\"movie_weighted_embeddings.npy\")\n",
        "metadata = joblib.load(\"movie_metadata.pkl\")\n",
        "\n",
        "# === Step 1: UMAP Reduction with tqdm ===\n",
        "def umap_with_progress(X, batch_size=10000, **kwargs):\n",
        "    print(\"🔄 Fitting UMAP model on first batch...\")\n",
        "    umap_model = UMAP(**kwargs)\n",
        "    umap_model.fit(X[:batch_size])\n",
        "\n",
        "    reduced = []\n",
        "    total_batches = len(X) // batch_size + (1 if len(X) % batch_size != 0 else 0)\n",
        "    print(\"📉 Transforming remaining batches with progress bar...\")\n",
        "    for i in tqdm(range(total_batches), desc=\"UMAP Reducing\"):\n",
        "        start = i * batch_size\n",
        "        end = min((i + 1) * batch_size, len(X))\n",
        "        reduced_chunk = umap_model.transform(X[start:end])\n",
        "        reduced.append(reduced_chunk)\n",
        "\n",
        "    return np.vstack(reduced), umap_model\n",
        "\n",
        "# Step 1 Execution\n",
        "start_umap = time.time()\n",
        "reduced_embeddings, umap_model = umap_with_progress(\n",
        "    embeddings,\n",
        "    batch_size=10000,\n",
        "    n_neighbors=30,\n",
        "    n_components=10,\n",
        "    min_dist=0.0,\n",
        "    metric='cosine',\n",
        "    random_state=42\n",
        ")\n",
        "print(f\"✅ UMAP reduction completed in {(time.time() - start_umap):.2f} seconds\\n\")\n",
        "\n",
        "# === Step 2: HDBSCAN Clustering ===\n",
        "print(\"🔍 Running HDBSCAN clustering...\")\n",
        "start_hdb = time.time()\n",
        "clusterer = hdbscan.HDBSCAN(\n",
        "    min_cluster_size=30,\n",
        "    min_samples=10,\n",
        "    metric='euclidean',\n",
        "    prediction_data=True\n",
        ")\n",
        "labels = clusterer.fit_predict(reduced_embeddings)\n",
        "print(f\"✅ HDBSCAN clustering completed in {(time.time() - start_hdb):.2f} seconds\\n\")\n",
        "\n",
        "# === Step 3: Assign cluster to metadata ===\n",
        "print(\"📝 Adding cluster labels to metadata...\")\n",
        "start_meta = time.time()\n",
        "for i in tqdm(range(len(metadata)), desc=\"Metadata Update\"):\n",
        "    metadata[i][\"cluster_umap\"] = int(labels[i])\n",
        "print(f\"✅ Metadata update completed in {(time.time() - start_meta):.2f} seconds\\n\")\n",
        "\n",
        "# === Step 4: Save to Disk ===\n",
        "print(\"💾 Saving clustered metadata...\")\n",
        "joblib.dump(metadata, \"movie_metadata_umap_clusters.pkl\")\n",
        "print(\"✅ Saved to 'movie_metadata_umap_clusters.pkl'\\n\")\n",
        "\n",
        "# === Step 5: Optional 2D Visualization ===\n",
        "print(\"📊 Generating 2D UMAP projection for visualization...\")\n",
        "start_vis = time.time()\n",
        "umap_2d = UMAP(n_components=2, metric='cosine', random_state=42).fit_transform(embeddings)\n",
        "\n",
        "plt.figure(figsize=(12, 8))\n",
        "plt.scatter(umap_2d[:, 0], umap_2d[:, 1], c=labels, cmap='tab20', s=1)\n",
        "plt.title(\"UMAP 2D + HDBSCAN Clustering (700k Movies)\")\n",
        "plt.axis(\"off\")\n",
        "plt.show()\n",
        "print(f\"✅ Visualization completed in {(time.time() - start_vis):.2f} seconds\")"
      ]
    },
    {
      "cell_type": "code",
      "source": [
        "!nvidia-smi"
      ],
      "metadata": {
        "colab": {
          "base_uri": "https://localhost:8080/"
        },
        "id": "Fh_w21JIw7iu",
        "outputId": "24ccd844-b914-4764-c110-5675ca0eb1e6"
      },
      "execution_count": null,
      "outputs": [
        {
          "output_type": "stream",
          "name": "stdout",
          "text": [
            "Fri Jun 13 10:09:59 2025       \n",
            "+-----------------------------------------------------------------------------------------+\n",
            "| NVIDIA-SMI 550.54.15              Driver Version: 550.54.15      CUDA Version: 12.4     |\n",
            "|-----------------------------------------+------------------------+----------------------+\n",
            "| GPU  Name                 Persistence-M | Bus-Id          Disp.A | Volatile Uncorr. ECC |\n",
            "| Fan  Temp   Perf          Pwr:Usage/Cap |           Memory-Usage | GPU-Util  Compute M. |\n",
            "|                                         |                        |               MIG M. |\n",
            "|=========================================+========================+======================|\n",
            "|   0  NVIDIA A100-SXM4-40GB          Off |   00000000:00:04.0 Off |                    0 |\n",
            "| N/A   34C    P0             46W /  400W |       5MiB /  40960MiB |      0%      Default |\n",
            "|                                         |                        |             Disabled |\n",
            "+-----------------------------------------+------------------------+----------------------+\n",
            "                                                                                         \n",
            "+-----------------------------------------------------------------------------------------+\n",
            "| Processes:                                                                              |\n",
            "|  GPU   GI   CI        PID   Type   Process name                              GPU Memory |\n",
            "|        ID   ID                                                               Usage      |\n",
            "|=========================================================================================|\n",
            "|  No running processes found                                                             |\n",
            "+-----------------------------------------------------------------------------------------+\n"
          ]
        }
      ]
    }
  ]
}